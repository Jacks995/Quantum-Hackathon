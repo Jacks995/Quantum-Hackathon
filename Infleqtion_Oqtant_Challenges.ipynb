{
 "cells": [
  {
   "cell_type": "markdown",
   "metadata": {},
   "source": [
    "# Oqtant Hackathon Challenges\n",
    "### These challenges are more data analysis and coding heavy than quantum but in the process the students will learn about time-of-flight (TOF) imaging, quantum interference and the resulting fringes. Their contributions can be shared publicly on Infleqtion's gitlab with credit and associated bragging rights."
   ]
  },
  {
   "cell_type": "markdown",
   "metadata": {},
   "source": [
    "##### Oqtant video resources\n",
    "##### (2min overview, Oqtant) - https://www.youtube.com/watch?v=LZhQv0tE8pQ\n",
    "##### (20min walkthrough, Oqtant) - https://www.youtube.com/watch?v=L_roGrc_EiY \n",
    "##### (55 min deep dive, BEC) - https://www.youtube.com/watch?v=Zr3__VKqbPU \n"
   ]
  },
  {
   "cell_type": "markdown",
   "metadata": {},
   "source": [
    "# Challenge 1: How well can you split the atom cloud? ($25)\n",
    "##### Oqtant allows the user to split a BEC into two BECs, allowing for useful interference and other experiements that require the interaction of two BECs.\n",
    "##### In this challenge you will attempt to perfectly divide the atoms that make up your BEC into exact halves. The quality of your solution will be judged on how close to a perfect split you are able to achieve. \n",
    "##### Refer to this Walkthrough to understand how you can split a BEC: https://gitlab.com/infleqtion/albert/oqtant/-/blob/main/documentation/examples/walkthroughs/walkthrough_3_optical_barriers.ipynb?ref_type=heads"
   ]
  },
https://github.com/smithabby/Quantum-Hackathon.wiki.git   
  {
   "cell_type": "code",
   "execution_count": null,
   "metadata": {},
   "outputs": [],
   "source": []
  },
  {
   "cell_type": "markdown",
   "metadata": {},
   "source": [
    "# Challenge 2: Use the two BECs from your split to generate an interference pattern & measure the fringe contrast ($100)\n",
    "\n",
    "#### Now that you have two BECs, in this challenge you will bring them together to generate a pattern of interference fringes.\n",
    "\n",
    "#### Refer to this walkthrough to understand how to generate and measure interference: https://gitlab.com/infleqtion/albert/oqtant/-/blob/main/documentation/examples/demos/demo_1_quantum_interference.ipynb?ref_type=heads  "
   ]
  },
  {
   "cell_type": "code",
   "execution_count": null,
   "metadata": {},
   "outputs": [],
   "source": []
  },
  {
   "cell_type": "markdown",
   "metadata": {},
   "source": [
    "##### All Resources:\n",
    "##### Optical potential barrier walkthrough: https://gitlab.com/infleqtion/albert/oqtant/-/blob/main/documentation/examples/walkthroughs/walkthrough_3_optical_barriers.ipynb?ref_type=heads \n",
    "##### About quantum matter: https://oqtant.infleqtion.com/technical/quantum-matter.md \n",
    "##### About in-trap imaging: https://oqtant.infleqtion.com/technical/imaging.md \n",
    "##### Interference experiment demo, runnable: https://gitlab.com/infleqtion/albert/oqtant/-/blob/main/documentation/examples/demos/demo_1_quantum_interference.ipynb?ref_type=heads \n",
    "##### Intro and data handling with oqtant: https://gitlab.com/infleqtion/albert/oqtant/-/blob/main/documentation/examples/walkthroughs/walkthrough_1_introduction.ipynb?ref_type=heads\n",
    "\n",
    "##### Oqtant video resources\n",
    "##### (2min overview, Oqtant) - https://www.youtube.com/watch?v=LZhQv0tE8pQ\n",
    "##### (20min walkthrough, Oqtant) - https://www.youtube.com/watch?v=L_roGrc_EiY \n",
    "##### (55 min deep dive, BEC) - https://www.youtube.com/watch?v=Zr3__VKqbPU "
   ]
  }
 ],
 "metadata": {
  "kernelspec": {
   "display_name": "base",
   "language": "python",
   "name": "python3"
  },
  "language_info": {
   "name": "python",
   "version": "3.10.9"
  }
 },
 "nbformat": 4,
 "nbformat_minor": 2
}
