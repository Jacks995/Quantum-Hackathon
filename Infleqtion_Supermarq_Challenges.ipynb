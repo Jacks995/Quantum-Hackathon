{
 "cells": [
  {
   "cell_type": "markdown",
   "id": "08d0b7d6-c378-48a9-a205-7de2cfcc778e",
   "metadata": {},
   "source": [
    "This challenge is designed to give you basic familiarity with Fault tolerant quantum computation (FTQC). The goal of this challenge is to write the simplest FT quantum computer. It is composed of 4 steps.\n",
    "\n",
    "1. Implementing basic QEC circuits as Supermarq benchmarks and running them on the Cirq Simulator to verify correctness of implementation\n",
    "2. Implementing fault tolerant (FT) operations using the [Steane code](https://en.wikipedia.org/wiki/Steane_code) implemented in step 1 as Supermarq benchmarks and running them on the Cirq Simulator to verify correctness of implementation\n",
    "3. Creating a FTQC by defining a function that performs FT operations and error correction on Cirq circuits\n",
    "4. Running the Supermarq benchmarks that are in the [main repository](https://github.com/Infleqtion/client-superstaq/tree/main/supermarq-benchmarks/supermarq/benchmarks) (Except for the bit and phase code) as logical algorithms on top of the fault tolerant operations that you defined in step 2 and running them on the Cirq Simulator to verify correctness of implementation."
   ]
  },
  {
   "cell_type": "code",
   "execution_count": 142,
   "id": "e53a647f-e70c-496a-b377-54fa7294c6c9",
   "metadata": {},
   "outputs": [
    {
     "name": "stdout",
     "output_type": "stream",
     "text": [
      "\n",
      "\u001b[1m[\u001b[0m\u001b[34;49mnotice\u001b[0m\u001b[1;39;49m]\u001b[0m\u001b[39;49m A new release of pip is available: \u001b[0m\u001b[31;49m23.2.1\u001b[0m\u001b[39;49m -> \u001b[0m\u001b[32;49m23.3.2\u001b[0m\n",
      "\u001b[1m[\u001b[0m\u001b[34;49mnotice\u001b[0m\u001b[1;39;49m]\u001b[0m\u001b[39;49m To update, run: \u001b[0m\u001b[32;49mpip install --upgrade pip\u001b[0m\n"
     ]
    }
   ],
   "source": [
    "!pip install supermarq -q"
   ]
  },
  {
   "cell_type": "code",
   "execution_count": 143,
   "id": "5c4d6e4e-e720-45dc-b52f-6cfb83554d03",
   "metadata": {},
   "outputs": [],
   "source": [
    "import collections\n",
    "\n",
    "import cirq\n",
    "from cirq.contrib.qasm_import import circuit_from_qasm\n",
    "from qiskit.synthesis import generate_basic_approximations\n",
    "from qiskit.transpiler.passes.synthesis import SolovayKitaev\n",
    "\n",
    "import supermarq\n",
    "from supermarq.benchmark import Benchmark\n",
    "from supermarq.benchmarks.bit_code import BitCode\n",
    "from supermarq.benchmarks.phase_code import PhaseCode\n",
    "from supermarq.benchmarks.ghz import GHZ\n",
    "from supermarq.benchmarks.hamiltonian_simulation import HamiltonianSimulation\n",
    "from supermarq.benchmarks.mermin_bell import MerminBell\n",
    "from supermarq.benchmarks.qaoa_fermionic_swap_proxy import QAOAFermionicSwapProxy\n",
    "from supermarq.benchmarks.qaoa_vanilla_proxy import QAOAVanillaProxy\n",
    "from supermarq.benchmarks.vqe_proxy import VQEProxy"
   ]
  },
  {
   "cell_type": "code",
   "execution_count": 153,
   "id": "ad99fa7c-fcd4-4eec-aec5-4ec7ae05b030",
   "metadata": {},
   "outputs": [],
   "source": [
    "# Utilities\n",
    "def compile_to_clifford_t(circuit: cirq.Circuit) -> cirq.Circuit:\n",
    "    \"\"\"Compiles to the clifford + t gateset (H, S, CNOT, T)\"\"\"\n",
    "    qiskit_circuit = supermarq.converters.cirq_to_qiskit(circuit)\n",
    "    qiskit_circuit.remove_final_measurements()\n",
    "    basis = [\"h\", \"s\", \"t\"]\n",
    "    approx = generate_basic_approximations(basis, depth=3)\n",
    "\n",
    "    skd = SolovayKitaev(recursion_degree=2, basic_approximations=approx)\n",
    " \n",
    "    discretized = skd(qiskit_circuit)\n",
    "\n",
    "    qasm = discretized.qasm()\n",
    " \n",
    "    return circuit_from_qasm(qasm)\n",
    "\n",
    "\n",
    "def results_to_counts(circuit: cirq.Circuit, results: cirq.Result) -> collections.Counter[str]:\n",
    "    \"\"\"Transforms cirq.Result in collection.Counter\"\"\"\n",
    "    new_collections_counter: collections.Counter[str] = collections.Counter()\n",
    "    keys = sorted(circuit.all_measurement_key_names())\n",
    "    num_qubits_measured_per_key = [results.measurements[key].shape[1] for key in keys]\n",
    "    histogram = results.multi_measurement_histogram(keys=keys)\n",
    "\n",
    "    for old_keys in histogram:\n",
    "        new_key = \"\".join(\n",
    "                f\"{old_key:>0{num_qubits_measured}b}\"\n",
    "                for old_key, num_qubits_measured in zip(old_keys, num_qubits_measured_per_key)\n",
    "            )\n",
    "        new_collections_counter[new_key] = histogram[old_keys]\n",
    "\n",
    "    return new_collections_counter"
   ]
  },
  {
   "cell_type": "markdown",
   "id": "5b2d759c-4ac6-4cef-9f0f-1069be086104",
   "metadata": {},
   "source": [
    "# Part 1"
   ]
  },
  {
   "cell_type": "markdown",
   "id": "536b42b5-887c-4b0e-a28e-6387fc53f356",
   "metadata": {},
   "source": [
    "Implement the following QEC benchmarks using [Cirq's classical control](https://quantumai.google/cirq/build/classical_control)."
   ]
  },
  {
   "cell_type": "code",
   "execution_count": 150,
   "id": "b352e39e-db7d-4ce1-96c4-1a2105b6ce27",
   "metadata": {},
   "outputs": [],
   "source": [
    "class BitCode(BitCode):\n",
    "    def circuit(self) -> cirq.Circuit:\n",
    "        pass"
   ]
  },
  {
   "cell_type": "code",
   "execution_count": 151,
   "id": "3b6e5bb8-618c-452f-ac72-841d40cb21bc",
   "metadata": {},
   "outputs": [],
   "source": [
    "class PhaseCode(Benchmark):\n",
    "    def circuit(self) -> cirq.Circuit:\n",
    "        pass "
   ]
  },
  {
   "cell_type": "code",
   "execution_count": 152,
   "id": "70d8019f-8ce8-40f7-9da4-0aa7d18868e3",
   "metadata": {},
   "outputs": [],
   "source": [
    "class ShorCode(Benchmark):\n",
    "    def circuit(self) -> cirq.Circuit:\n",
    "        pass\n",
    "    def score(self) -> int:\n",
    "        pass"
   ]
  },
  {
   "cell_type": "code",
   "execution_count": 74,
   "id": "71519844-09a1-4824-b66d-afdca38b37dc",
   "metadata": {},
   "outputs": [],
   "source": [
    "class FiveQubitCode(Benchmark):\n",
    "    def circuit(self) -> cirq.Circuit:\n",
    "        pass\n",
    "    def score(self) -> int:\n",
    "        pass"
   ]
  },
  {
   "cell_type": "code",
   "execution_count": 75,
   "id": "964e68fe-0366-49b1-98c4-c3ca0c690c13",
   "metadata": {},
   "outputs": [],
   "source": [
    "class SteaneCode(Benchmark):\n",
    "    def circuit(self) -> cirq.Circuit:\n",
    "        pass\n",
    "    def score(self) -> int:\n",
    "        pass"
   ]
  },
  {
   "cell_type": "markdown",
   "id": "7c9c180b-5897-4c52-a032-a391a211844e",
   "metadata": {},
   "source": [
    "Run these circuits on the Cirq simulator and report the results"
   ]
  },
  {
   "cell_type": "markdown",
   "id": "2a1b4566-2f63-4013-88ec-ce59b24f775b",
   "metadata": {},
   "source": [
    "# Part 2"
   ]
  },
  {
   "cell_type": "markdown",
   "id": "26ca7088-ecad-4e8d-b7fc-8276857e596c",
   "metadata": {},
   "source": [
    "Now that you're comfortable with implementing and running error correcting codes, it's time to implement and run FT circuits. First define your FT operations."
   ]
  },
  {
   "cell_type": "code",
   "execution_count": 76,
   "id": "9afe64e8-588b-4161-bc22-fadb0b0b7521",
   "metadata": {},
   "outputs": [],
   "source": [
    "class FTStatePrep(Benchmark):\n",
    "    \"\"\"Prepares logical |0⟩ or |1⟩ states\"\"\"\n",
    "    def circuit() -> cirq.Circuit:\n",
    "        pass\n",
    "    def score() -> int:\n",
    "        pass    "
   ]
  },
  {
   "cell_type": "code",
   "execution_count": 77,
   "id": "31a3c793-c5fc-4a34-918e-7173bacafcbb",
   "metadata": {},
   "outputs": [],
   "source": [
    "class FTMeasurement(Benchmark):\n",
    "    \"\"\"FT measurement gate\"\"\"\n",
    "    def circuit() -> cirq.Circuit:\n",
    "        pass\n",
    "    def score() -> int:\n",
    "        pass"
   ]
  },
  {
   "cell_type": "code",
   "execution_count": 78,
   "id": "dab7dd94-be9e-47f7-a03f-91b0e770d9f0",
   "metadata": {},
   "outputs": [],
   "source": [
    "class FTH(Benchmark):\n",
    "    \"\"\"FT Hadamard gate\"\"\"\n",
    "    def circuit() -> cirq.Circuit:\n",
    "        pass\n",
    "    def score() -> int:\n",
    "        pass"
   ]
  },
  {
   "cell_type": "code",
   "execution_count": 79,
   "id": "22afd7ec-be43-4605-be58-2188797842ac",
   "metadata": {},
   "outputs": [],
   "source": [
    "class FTS(Benchmark):\n",
    "    \"\"\"FT S gate\"\"\"\n",
    "    def circuit() -> cirq.Circuit:\n",
    "        pass\n",
    "    def score() -> int:\n",
    "        pass"
   ]
  },
  {
   "cell_type": "code",
   "execution_count": 80,
   "id": "7fecebbb-1ae9-441a-be2a-70691c4e91e4",
   "metadata": {},
   "outputs": [],
   "source": [
    "class FTT(Benchmark):\n",
    "    \"\"\"FT T gate\"\"\"\n",
    "    def circuit() -> cirq.Circuit:\n",
    "        pass\n",
    "    def score() -> int:\n",
    "        pass"
   ]
  },
  {
   "cell_type": "markdown",
   "id": "4003d368-6344-4f7e-ad92-a558540bdcab",
   "metadata": {},
   "source": [
    "Run these circuits on the Cirq simulator and report the results"
   ]
  },
  {
   "cell_type": "markdown",
   "id": "9253e5af-2827-4e83-beb3-221d17e4012c",
   "metadata": {},
   "source": [
    "# Part 3"
   ]
  },
  {
   "cell_type": "markdown",
   "id": "ba91c4dc-b380-4ef4-a131-e9fc9aaf1b5c",
   "metadata": {},
   "source": [
    "Now that you have fault tolerant operations and error correcting codes, you can finally build a fault tolerant quantum computer."
   ]
  },
  {
   "cell_type": "code",
   "execution_count": 148,
   "id": "6d0a97a1-e84b-4342-9539-50df251bd197",
   "metadata": {},
   "outputs": [],
   "source": [
    "def compile_to_logical(circuit: cirq.Circuit) -> cirq.Circuit:\n",
    "    circuit = compile_to_clifford_t(circuit)\n",
    "    # ft_state_prep_0_L for all qubits()\n",
    "    for op in circuit.all_operations():\n",
    "        pass\n",
    "        # ft_op\n",
    "        # ft_error_correct\n",
    "    if isinstance(op.gate, cirq.MeasurementGate):\n",
    "        pass\n",
    "        # ft_measure    "
   ]
  },
  {
   "cell_type": "code",
   "execution_count": 133,
   "id": "21de5102-d4eb-4442-b7f0-3a92de73d4d7",
   "metadata": {},
   "outputs": [],
   "source": [
    "def ftqc(circuits: list[cirq.Circuit], repetitions=100):\n",
    "    results = []\n",
    "    for circuit in circuits:\n",
    "        logical_circuit = compile_to_logical(circuit)\n",
    "        simulator = cirq.Simulator()\n",
    "        result = simulator.run(circuit, repetitions=repetitions)\n",
    "        result = results_to_counts(circuit, result)\n",
    "        results.append(result)\n",
    "    return results"
   ]
  },
  {
   "cell_type": "markdown",
   "id": "c58f07da-13a8-411e-aaf7-721628628e7c",
   "metadata": {},
   "source": [
    "# Part 4"
   ]
  },
  {
   "cell_type": "markdown",
   "id": "49c95fa2-d8f1-4ecf-9301-78c0b7dba18c",
   "metadata": {},
   "source": [
    "Run these Supermarq circuits on your FTQC"
   ]
  },
  {
   "cell_type": "code",
   "execution_count": 134,
   "id": "3d29b4d3-2af4-4735-abf3-f69bb7d518eb",
   "metadata": {},
   "outputs": [],
   "source": [
    "ghz = GHZ(3)\n",
    "counts = ftqc([ghz.circuit()])\n",
    "score = ghz.score(counts[0])"
   ]
  },
  {
   "cell_type": "code",
   "execution_count": 135,
   "id": "b8e2b59b-ceeb-44d2-bf59-ce4453a03194",
   "metadata": {},
   "outputs": [],
   "source": [
    "hs = HamiltonianSimulation(2, 1, 1)\n",
    "counts = ftqc([hs.circuit()])\n",
    "score = hs.score(counts[0])"
   ]
  },
  {
   "cell_type": "code",
   "execution_count": 136,
   "id": "035cc3ef-de19-4711-95b6-6c07d16e0c56",
   "metadata": {},
   "outputs": [
    {
     "name": "stderr",
     "output_type": "stream",
     "text": [
      "/home/victory/venvs/quantum_hackathon_venv/lib/python3.11/site-packages/qiskit/synthesis/discrete_basis/commutator_decompose.py:140: RuntimeWarning: invalid value encountered in divide\n",
      "  to_vector = to_vector / np.linalg.norm(to_vector)\n",
      "/home/victory/venvs/quantum_hackathon_venv/lib/python3.11/site-packages/numpy/linalg/linalg.py:2180: RuntimeWarning: invalid value encountered in det\n",
      "  r = _umath_linalg.det(a, signature=signature)\n",
      "/home/victory/venvs/quantum_hackathon_venv/lib/python3.11/site-packages/qiskit/synthesis/discrete_basis/commutator_decompose.py:98: RuntimeWarning: The iteration is not making good progress, as measured by the \n",
      "  improvement from the last ten iterations.\n",
      "  decomposition_angle = fsolve(objective, angle)[0]\n"
     ]
    }
   ],
   "source": [
    "mb = MerminBell(3)\n",
    "counts = ftqc([mb.circuit()])\n",
    "score = mb.score(counts[0])"
   ]
  },
  {
   "cell_type": "code",
   "execution_count": 119,
   "id": "d13485ab-c00d-4542-98f4-0f7c907512f6",
   "metadata": {},
   "outputs": [],
   "source": [
    "qaoa = QAOAFermionicSwapProxy(4)\n",
    "counts = ftqc([qaoa.circuit()])\n",
    "score = qaoa.score(counts[0])"
   ]
  },
  {
   "cell_type": "code",
   "execution_count": 120,
   "id": "4c312793-7772-446e-8fad-bea03203d984",
   "metadata": {},
   "outputs": [],
   "source": [
    "qaoa = QAOAVanillaProxy(4)\n",
    "counts = ftqc([qaoa.circuit()])\n",
    "score = qaoa.score(counts[0])"
   ]
  },
  {
   "cell_type": "code",
   "execution_count": 138,
   "id": "ca73d1b7-a0da-42ff-9169-eff80a9a547c",
   "metadata": {},
   "outputs": [],
   "source": [
    "vqe = VQEProxy(2)\n",
    "counts = ftqc(vqe.circuit())\n",
    "score = vqe.score(counts)"
   ]
  }
 ],
 "metadata": {
  "kernelspec": {
   "display_name": "Python 3 (ipykernel)",
   "language": "python",
   "name": "python3"
  },
  "language_info": {
   "codemirror_mode": {
    "name": "ipython",
    "version": 3
   },
   "file_extension": ".py",
   "mimetype": "text/x-python",
   "name": "python",
   "nbconvert_exporter": "python",
   "pygments_lexer": "ipython3",
   "version": "3.11.7"
  }
 },
 "nbformat": 4,
 "nbformat_minor": 5
}
