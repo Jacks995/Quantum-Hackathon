{
 "cells": [
  {
   "cell_type": "markdown",
   "metadata": {},
   "source": [
    "# NVIDIA Hackathon Challenges ###"
   ]
  },
  {
   "cell_type": "markdown",
   "metadata": {},
   "source": [
    "## 1. ADAPT VQE ##"
   ]
  },
  {
   "cell_type": "markdown",
   "metadata": {},
   "source": [
    "### Challenge ###"
   ]
  },
  {
   "cell_type": "markdown",
   "metadata": {},
   "source": [
    " The goal is to explore the ways that quantum computations can be accelerated with CUDA Quantum.  Choose a small molecule (e.g. LiH).  Implement an ADAPT-VQE approach to compute the electronic energy. Try to accelerate the algorithm as much as possible using CUDA Quantum tools.  Even if multiple GPUs are not available, note any parts of the code that could be parallelized and how you would do it. Also, produce benchmark data to demonstrate the speedup obtained from using a GPU vs a CPU. Judgment criteria will be the quality of results relative to the exact LiH electronic energy, and any creative implementations to accelerate the code."
   ]
  },
  {
   "cell_type": "markdown",
   "metadata": {},
   "source": [
    "### Useful Information ###"
   ]
  },
  {
   "cell_type": "markdown",
   "metadata": {},
   "source": [
    "1. See Intro to CUDA Quantum notebook for basics\n",
    "2. CUDA Quantum Documentation useful links:\n",
    "    1. Python examples Including VQE: https://nvidia.github.io/cuda-quantum/latest/using/python.html#variational-quantum-eigensolver \n",
    "    2. VQE Chemistry Example: https://nvidia.github.io/cuda-quantum/latest/examples/python/tutorials/vqe.html\n",
    "    3. Tutorial for scaling/parallel methods: https://nvidia.github.io/cuda-quantum/latest/examples/python/tutorials/multi_gpu_workflows.html\n",
    "    4. quantum gate operations: https://nvidia.github.io/cuda-quantum/latest/api/default_ops.html\n",
    "    5. Python API Ref.\n",
    "3. ADAPT-VQE Paper: https://www.nature.com/articles/s41467-019-10988-2\n"
   ]
  },
  {
   "cell_type": "markdown",
   "metadata": {},
   "source": [
    "## 2. Quantum Generative Adversarial Network ##"
   ]
  },
  {
   "cell_type": "markdown",
   "metadata": {},
   "source": [
    "### Challenge ###   "
   ]
  },
  {
   "cell_type": "markdown",
   "metadata": {},
   "source": [
    "Given a large data set with many features, e.g MNIST Fashion data set, build a Quantum Generative Adversarial Network (QGAN) that produces synthetic data that best resembles a test set. Confirm this with metrics and compare with other teams. Utilize accelerated computing to perform any classical tasks (feature reduction or the classical discriminator) and scale the problem as large as possible. Submissions that include a comparison with classical results, an analysis of quantum resources required for scalability, and/or a demonstrate how the algorithm may generalize to related data sets are encouraged. Submissions will be judged by the quality of the generated data, clarity of exposition, and generalizability of the algorithm."
   ]
  },
  {
   "cell_type": "markdown",
   "metadata": {},
   "source": [
    "1. See Intro to CUDA Quantum notebook for basics\n",
    "2. CUDA Quantum Documentation useful links:\n",
    "    1. Python examples Including VQE: https://nvidia.github.io/cuda-quantum/latest/using/python.html#variational-quantum-eigensolver \n",
    "    2. Hybrid Neural Network Tutorial: https://nvidia.github.io/cuda-quantum/latest/examples/python/tutorials/hybrid_qnns.html\n",
    "    3. Tutorial for scaling/parallel methods: https://nvidia.github.io/cuda-quantum/latest/examples/python/tutorials/multi_gpu_workflows.html\n",
    "    4. quantum gate operations: https://nvidia.github.io/cuda-quantum/latest/api/default_ops.html\n",
    "    5. Python API Ref. https://nvidia.github.io/cuda-quantum/latest/api/languages/python_api.html\n",
    "3. QGAN Paper: https://arxiv.org/pdf/1804.08641.pdf\n"
   ]
  },
  {
   "cell_type": "markdown",
   "metadata": {},
   "source": []
  }
 ],
 "metadata": {
  "language_info": {
   "name": "python"
  }
 },
 "nbformat": 4,
 "nbformat_minor": 2
}
