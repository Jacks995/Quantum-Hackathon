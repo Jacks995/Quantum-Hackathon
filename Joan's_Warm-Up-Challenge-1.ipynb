{
 "cells": [
  {
   "cell_type": "markdown",
   "metadata": {},
   "source": [
    "## Welcome to the Q-SEnSE Hackathon!\n",
    "### This is a warmup challenge designed to give you basic familiarity with writing quantum circuits in CUDA Quantum and Supermarq (which uses Google's quantum package Cirq).\n",
    "\n",
    "#### The goal of this challenge is to write the simplest (yet still useful) quantum circuit: the quantum random number generator! ($25)"
   ]
  },
  {
   "cell_type": "markdown",
   "metadata": {},
   "source": [
    "Your mission, should you choose to accept it, is to write a quantum random number generator (QMRG) in either CUDA Quantum or Supermarq (or both!). This QMRG will take the form of a function that takes as input an integer x and outputs a random number between 0 and x-1. \n",
    "\n",
    "Hint: This function should behave just like the pseudorandom python function randrange(x) but due to its use of quantum randomness is truely random not just pseudorandom!\n"
   ]
  },
  {
   "cell_type": "markdown",
   "metadata": {},
   "source": [
    "#### Example Code:\n",
    "\n",
    "Here is an example of the random number generator written in Qiskit (IBM's quantum package) - your code should reproduce the random bit generator in Cirq or CUDA Quantum in such a way as to display a random integer (this code produces a random n-bit string instead of an integer)!"
   ]
  },
  {
   "cell_type": "code",
   "execution_count": 1,
   "metadata": {},
   "outputs": [],
   "source": [
    "###\n",
    "#Generating a Qrandom number between 0 and n-1 in Qiskit\n",
    "###\n",
    "\n",
    "def Qrand(n):\n",
    "\n",
    "    import numpy as np\n",
    "    from qiskit import QuantumCircuit, QuantumRegister, ClassicalRegister, transpile\n",
    "    from qiskit.providers.aer import QasmSimulator\n",
    "    from qiskit.visualization import plot_histogram\n",
    "\n",
    "\n",
    "    # Use Aer's qasm_simulator\n",
    "    simulator = QasmSimulator()\n",
    "\n",
    "    # Create a Quantum Circuit acting on the q register\n",
    "    qr = QuantumRegister(n, 'q')\n",
    "    cr = ClassicalRegister(n, 'c')\n",
    "    circuit = QuantumCircuit(qr, cr)\n",
    "\n",
    "\n",
    "# Add a H gate on all qubits\n",
    "    for i in range(0,n):\n",
    "            circuit.h(i)\n",
    "\n",
    "\n",
    "# Map the quantum measurement to the classical bits\n",
    "    circuit.measure(qr, cr)\n",
    "\n",
    "# compile the circuit down to low-level QASM instructions\n",
    "# supported by the backend (not needed for simple circuits)\n",
    "    compiled_circuit = transpile(circuit, simulator)\n",
    "\n",
    "# Execute the circuit on the qasm simulator\n",
    "    job = simulator.run(compiled_circuit, shots=1)\n",
    "\n",
    "# Grab results from the job\n",
    "    result = job.result()\n",
    "\n",
    "\n",
    "# Returns counts\n",
    "    counts = result.get_counts(compiled_circuit)\n",
    "    print(counts)"
   ]
  },
  {
   "cell_type": "markdown",
   "metadata": {},
   "source": [
    "This example run returns an output in the form {random bit string : probability of that string}"
   ]
  },
  {
   "cell_type": "code",
   "execution_count": 2,
   "metadata": {},
   "outputs": [
    {
     "name": "stdout",
     "output_type": "stream",
     "text": [
      "{'0110': 1}\n"
     ]
    }
   ],
   "source": [
    "Qrand(4)"
   ]
  },
  {
   "cell_type": "code",
   "execution_count": 3,
   "metadata": {},
   "outputs": [
    {
     "name": "stdout",
     "output_type": "stream",
     "text": [
      "{'0100111101': 1}\n"
     ]
    }
   ],
   "source": [
    "Qrand(10)"
   ]
  }
 ],
 "metadata": {
  "kernelspec": {
   "display_name": "base",
   "language": "python",
   "name": "python3"
  },
  "language_info": {
   "codemirror_mode": {
    "name": "ipython",
    "version": 3
   },
   "file_extension": ".py",
   "mimetype": "text/x-python",
   "name": "python",
   "nbconvert_exporter": "python",
   "pygments_lexer": "ipython3",
   "version": "3.10.9"
  }
 },
 "nbformat": 4,
 "nbformat_minor": 2
}
