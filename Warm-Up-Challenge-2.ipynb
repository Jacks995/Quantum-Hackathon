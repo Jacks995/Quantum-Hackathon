{
 "cells": [
  {
   "cell_type": "markdown",
   "metadata": {},
   "source": [
    "## Welcome to the Q-SEnSE Hackathon!\n",
    "### This is a warmup challenge designed to give you basic familiarity with writing quantum circuits in CUDA Quantum and Supermarq (which uses Google's quantum package Cirq).\n",
    "\n",
    "#### The goal of this challenge is to become familiar with qubit rotation gates and expectation value measurements, which are both fundamental to the implementation of more sophisticated circuits!"
   ]
  },
  {
   "cell_type": "markdown",
   "metadata": {},
   "source": [
    "Your mission, should you choose to accept it, is to complete the following:\n",
    "1. Write a quantum circuit that performs an $R_x(\\theta_x)$ and then an $R_y(\\theta_y)$ rotation on the zero state and then calculates the expectation value of the Pauli $Z$ for the measurement.\n",
    "\n",
    "2. Once this circuit is complete, run it through an optimization program to discover the optimal rotation angles $\\theta_x, \\theta_y$ that minimize the expectation value $\\langle Z \\rangle$\n",
    "\n",
    " Do this in either CUDA Quantum or Supermarq (or both!). "
   ]
  },
  {
   "cell_type": "markdown",
   "metadata": {},
   "source": [
    "You will need (at least) the following packages installed from your command line before you can run the example code:"
   ]
  },
  {
   "cell_type": "code",
   "execution_count": 8,
   "metadata": {},
   "outputs": [
    {
     "ename": "SyntaxError",
     "evalue": "invalid syntax (60792640.py, line 1)",
     "output_type": "error",
     "traceback": [
      "\u001b[1;36m  Cell \u001b[1;32mIn[8], line 1\u001b[1;36m\u001b[0m\n\u001b[1;33m    pip install jax\u001b[0m\n\u001b[1;37m        ^\u001b[0m\n\u001b[1;31mSyntaxError\u001b[0m\u001b[1;31m:\u001b[0m invalid syntax\n"
     ]
    }
   ],
   "source": [
    "pip install jax\n",
    "pip install jaxlib\n",
    "pip install jaxopt\n",
    "pip install pennylane"
   ]
  },
  {
   "cell_type": "markdown",
   "metadata": {},
   "source": [
    "#### Example Code:\n",
    "\n",
    "Here is an example of the random number generator written in PennyLane (Xanadu's quantum package) - your code should reproduce this function in Cirq or CUDA Quantum!\n",
    "\n",
    "Link to PennyLane guide: https://pennylane.ai/qml/demos/tutorial_qubit_rotation/"
   ]
  },
  {
   "cell_type": "code",
   "execution_count": 47,
   "metadata": {},
   "outputs": [],
   "source": [
    "import pennylane as qml\n",
    "from jax import numpy as np\n",
    "import jaxopt\n",
    "import jax\n",
    "jax.config.update('jax_enable_x64', True)"
   ]
  },
  {
   "cell_type": "code",
   "execution_count": 3,
   "metadata": {},
   "outputs": [],
   "source": [
    "dev1 = qml.device(\"lightning.qubit\", wires=1)"
   ]
  },
  {
   "cell_type": "code",
   "execution_count": 4,
   "metadata": {},
   "outputs": [],
   "source": [
    "def circuit(params):\n",
    "    qml.RX(params[0], wires=0)\n",
    "    qml.RY(params[1], wires=0)\n",
    "    return qml.expval(qml.PauliZ(0))"
   ]
  },
  {
   "cell_type": "code",
   "execution_count": 5,
   "metadata": {},
   "outputs": [],
   "source": [
    "@qml.qnode(dev1)\n",
    "def circuit(params):\n",
    "    qml.RX(params[0], wires=0)\n",
    "    qml.RY(params[1], wires=0)\n",
    "    return qml.expval(qml.PauliZ(0))"
   ]
  },
  {
   "cell_type": "code",
   "execution_count": 42,
   "metadata": {},
   "outputs": [],
   "source": [
    "def cost(x):\n",
    "    return circuit(x)"
   ]
  },
  {
   "cell_type": "code",
   "execution_count": 43,
   "metadata": {},
   "outputs": [
    {
     "name": "stdout",
     "output_type": "stream",
     "text": [
      "0.9998675058293427\n"
     ]
    }
   ],
   "source": [
    "init_angles = np.array([0.011, 0.012])\n",
    "print(cost(init_params))"
   ]
  },
  {
   "cell_type": "code",
   "execution_count": 48,
   "metadata": {},
   "outputs": [
    {
     "ename": "TypeError",
     "evalue": "Custom JVP rule must produce primal and tangent outputs with equal shapes and dtypes, but got float64[] and float32[] respectively.",
     "output_type": "error",
     "traceback": [
      "\u001b[1;31m---------------------------------------------------------------------------\u001b[0m",
      "\u001b[1;31mTypeError\u001b[0m                                 Traceback (most recent call last)",
      "Cell \u001b[1;32mIn[48], line 13\u001b[0m\n\u001b[0;32m      9\u001b[0m opt_state \u001b[38;5;241m=\u001b[39m opt\u001b[38;5;241m.\u001b[39minit_state(params)\n\u001b[0;32m     11\u001b[0m \u001b[38;5;28;01mfor\u001b[39;00m i \u001b[38;5;129;01min\u001b[39;00m \u001b[38;5;28mrange\u001b[39m(steps):\n\u001b[0;32m     12\u001b[0m     \u001b[38;5;66;03m# update the circuit parameters\u001b[39;00m\n\u001b[1;32m---> 13\u001b[0m     params, opt_state \u001b[38;5;241m=\u001b[39m \u001b[43mopt\u001b[49m\u001b[38;5;241;43m.\u001b[39;49m\u001b[43mupdate\u001b[49m\u001b[43m(\u001b[49m\u001b[43mparams\u001b[49m\u001b[43m,\u001b[49m\u001b[43m \u001b[49m\u001b[43mopt_state\u001b[49m\u001b[43m)\u001b[49m\n\u001b[0;32m     15\u001b[0m     \u001b[38;5;28;01mif\u001b[39;00m (i \u001b[38;5;241m+\u001b[39m \u001b[38;5;241m1\u001b[39m) \u001b[38;5;241m%\u001b[39m \u001b[38;5;241m5\u001b[39m \u001b[38;5;241m==\u001b[39m \u001b[38;5;241m0\u001b[39m:\n\u001b[0;32m     16\u001b[0m         \u001b[38;5;28mprint\u001b[39m(\u001b[38;5;124m\"\u001b[39m\u001b[38;5;124mCost after step \u001b[39m\u001b[38;5;132;01m{:5d}\u001b[39;00m\u001b[38;5;124m: \u001b[39m\u001b[38;5;132;01m{: .7f}\u001b[39;00m\u001b[38;5;124m\"\u001b[39m\u001b[38;5;241m.\u001b[39mformat(i \u001b[38;5;241m+\u001b[39m \u001b[38;5;241m1\u001b[39m, cost(params)))\n",
      "    \u001b[1;31m[... skipping hidden 12 frame]\u001b[0m\n",
      "File \u001b[1;32mc:\\Users\\chopi\\anaconda3\\lib\\site-packages\\jaxopt\\_src\\gradient_descent.py:97\u001b[0m, in \u001b[0;36mGradientDescent.update\u001b[1;34m(self, params, state, *args, **kwargs)\u001b[0m\n\u001b[0;32m     82\u001b[0m \u001b[38;5;28;01mdef\u001b[39;00m \u001b[38;5;21mupdate\u001b[39m(\u001b[38;5;28mself\u001b[39m,\n\u001b[0;32m     83\u001b[0m            params: Any,\n\u001b[0;32m     84\u001b[0m            state: NamedTuple,\n\u001b[0;32m     85\u001b[0m            \u001b[38;5;241m*\u001b[39margs,\n\u001b[0;32m     86\u001b[0m            \u001b[38;5;241m*\u001b[39m\u001b[38;5;241m*\u001b[39mkwargs) \u001b[38;5;241m-\u001b[39m\u001b[38;5;241m>\u001b[39m base\u001b[38;5;241m.\u001b[39mOptStep:\n\u001b[0;32m     87\u001b[0m   \u001b[38;5;124;03m\"\"\"Performs one iteration of gradient descent.\u001b[39;00m\n\u001b[0;32m     88\u001b[0m \n\u001b[0;32m     89\u001b[0m \u001b[38;5;124;03m  Args:\u001b[39;00m\n\u001b[1;32m   (...)\u001b[0m\n\u001b[0;32m     95\u001b[0m \u001b[38;5;124;03m    (params, state)\u001b[39;00m\n\u001b[0;32m     96\u001b[0m \u001b[38;5;124;03m  \"\"\"\u001b[39;00m\n\u001b[1;32m---> 97\u001b[0m   \u001b[38;5;28;01mreturn\u001b[39;00m \u001b[38;5;28msuper\u001b[39m()\u001b[38;5;241m.\u001b[39mupdate(params, state, \u001b[38;5;28;01mNone\u001b[39;00m, \u001b[38;5;241m*\u001b[39margs, \u001b[38;5;241m*\u001b[39m\u001b[38;5;241m*\u001b[39mkwargs)\n",
      "File \u001b[1;32mc:\\Users\\chopi\\anaconda3\\lib\\site-packages\\jaxopt\\_src\\proximal_gradient.py:305\u001b[0m, in \u001b[0;36mProximalGradient.update\u001b[1;34m(self, params, state, hyperparams_prox, *args, **kwargs)\u001b[0m\n\u001b[0;32m    293\u001b[0m \u001b[38;5;124;03m\"\"\"Performs one iteration of proximal gradient.\u001b[39;00m\n\u001b[0;32m    294\u001b[0m \n\u001b[0;32m    295\u001b[0m \u001b[38;5;124;03mArgs:\u001b[39;00m\n\u001b[1;32m   (...)\u001b[0m\n\u001b[0;32m    302\u001b[0m \u001b[38;5;124;03m  (params, state)\u001b[39;00m\n\u001b[0;32m    303\u001b[0m \u001b[38;5;124;03m\"\"\"\u001b[39;00m\n\u001b[0;32m    304\u001b[0m f \u001b[38;5;241m=\u001b[39m \u001b[38;5;28mself\u001b[39m\u001b[38;5;241m.\u001b[39m_update_accel \u001b[38;5;28;01mif\u001b[39;00m \u001b[38;5;28mself\u001b[39m\u001b[38;5;241m.\u001b[39macceleration \u001b[38;5;28;01melse\u001b[39;00m \u001b[38;5;28mself\u001b[39m\u001b[38;5;241m.\u001b[39m_update\n\u001b[1;32m--> 305\u001b[0m \u001b[38;5;28;01mreturn\u001b[39;00m \u001b[43mf\u001b[49m\u001b[43m(\u001b[49m\u001b[43mparams\u001b[49m\u001b[43m,\u001b[49m\u001b[43m \u001b[49m\u001b[43mstate\u001b[49m\u001b[43m,\u001b[49m\u001b[43m \u001b[49m\u001b[43mhyperparams_prox\u001b[49m\u001b[43m,\u001b[49m\u001b[43m \u001b[49m\u001b[43margs\u001b[49m\u001b[43m,\u001b[49m\u001b[43m \u001b[49m\u001b[43mkwargs\u001b[49m\u001b[43m)\u001b[49m\n",
      "File \u001b[1;32mc:\\Users\\chopi\\anaconda3\\lib\\site-packages\\jaxopt\\_src\\proximal_gradient.py:247\u001b[0m, in \u001b[0;36mProximalGradient._update\u001b[1;34m(self, x, state, hyperparams_prox, args, kwargs)\u001b[0m\n\u001b[0;32m    245\u001b[0m iter_num \u001b[38;5;241m=\u001b[39m state\u001b[38;5;241m.\u001b[39miter_num\n\u001b[0;32m    246\u001b[0m stepsize \u001b[38;5;241m=\u001b[39m state\u001b[38;5;241m.\u001b[39mstepsize\n\u001b[1;32m--> 247\u001b[0m (x_fun_val, aux), x_fun_grad \u001b[38;5;241m=\u001b[39m \u001b[38;5;28mself\u001b[39m\u001b[38;5;241m.\u001b[39m_value_and_grad_with_aux(x, \u001b[38;5;241m*\u001b[39margs,\n\u001b[0;32m    248\u001b[0m                                                              \u001b[38;5;241m*\u001b[39m\u001b[38;5;241m*\u001b[39mkwargs)\n\u001b[0;32m    249\u001b[0m next_x, next_stepsize \u001b[38;5;241m=\u001b[39m \u001b[38;5;28mself\u001b[39m\u001b[38;5;241m.\u001b[39m_iter(iter_num, x, x_fun_val, x_fun_grad,\n\u001b[0;32m    250\u001b[0m                                    stepsize, hyperparams_prox, args, kwargs)\n\u001b[0;32m    251\u001b[0m error \u001b[38;5;241m=\u001b[39m \u001b[38;5;28mself\u001b[39m\u001b[38;5;241m.\u001b[39m_error(tree_sub(next_x, x), next_stepsize)\n",
      "    \u001b[1;31m[... skipping hidden 8 frame]\u001b[0m\n",
      "File \u001b[1;32mc:\\Users\\chopi\\anaconda3\\lib\\site-packages\\jaxopt\\_src\\base.py:71\u001b[0m, in \u001b[0;36m_add_aux_to_fun.<locals>.fun_with_aux\u001b[1;34m(*a, **kw)\u001b[0m\n\u001b[0;32m     70\u001b[0m \u001b[38;5;28;01mdef\u001b[39;00m \u001b[38;5;21mfun_with_aux\u001b[39m(\u001b[38;5;241m*\u001b[39ma, \u001b[38;5;241m*\u001b[39m\u001b[38;5;241m*\u001b[39mkw):\n\u001b[1;32m---> 71\u001b[0m   \u001b[38;5;28;01mreturn\u001b[39;00m fun(\u001b[38;5;241m*\u001b[39ma, \u001b[38;5;241m*\u001b[39m\u001b[38;5;241m*\u001b[39mkw), \u001b[38;5;28;01mNone\u001b[39;00m\n",
      "Cell \u001b[1;32mIn[42], line 2\u001b[0m, in \u001b[0;36mcost\u001b[1;34m(x)\u001b[0m\n\u001b[0;32m      1\u001b[0m \u001b[38;5;28;01mdef\u001b[39;00m \u001b[38;5;21mcost\u001b[39m(x):\n\u001b[1;32m----> 2\u001b[0m     \u001b[38;5;28;01mreturn\u001b[39;00m \u001b[43mcircuit\u001b[49m\u001b[43m(\u001b[49m\u001b[43mx\u001b[49m\u001b[43m)\u001b[49m\n",
      "File \u001b[1;32mc:\\Users\\chopi\\anaconda3\\lib\\site-packages\\pennylane\\qnode.py:1027\u001b[0m, in \u001b[0;36mQNode.__call__\u001b[1;34m(self, *args, **kwargs)\u001b[0m\n\u001b[0;32m   1022\u001b[0m         full_transform_program\u001b[38;5;241m.\u001b[39m_set_all_argnums(\n\u001b[0;32m   1023\u001b[0m             \u001b[38;5;28mself\u001b[39m, args, kwargs, argnums\n\u001b[0;32m   1024\u001b[0m         )  \u001b[38;5;66;03m# pylint: disable=protected-access\u001b[39;00m\n\u001b[0;32m   1026\u001b[0m \u001b[38;5;66;03m# pylint: disable=unexpected-keyword-arg\u001b[39;00m\n\u001b[1;32m-> 1027\u001b[0m res \u001b[38;5;241m=\u001b[39m qml\u001b[38;5;241m.\u001b[39mexecute(\n\u001b[0;32m   1028\u001b[0m     (\u001b[38;5;28mself\u001b[39m\u001b[38;5;241m.\u001b[39m_tape,),\n\u001b[0;32m   1029\u001b[0m     device\u001b[38;5;241m=\u001b[39m\u001b[38;5;28mself\u001b[39m\u001b[38;5;241m.\u001b[39mdevice,\n\u001b[0;32m   1030\u001b[0m     gradient_fn\u001b[38;5;241m=\u001b[39m\u001b[38;5;28mself\u001b[39m\u001b[38;5;241m.\u001b[39mgradient_fn,\n\u001b[0;32m   1031\u001b[0m     interface\u001b[38;5;241m=\u001b[39m\u001b[38;5;28mself\u001b[39m\u001b[38;5;241m.\u001b[39minterface,\n\u001b[0;32m   1032\u001b[0m     transform_program\u001b[38;5;241m=\u001b[39mfull_transform_program,\n\u001b[0;32m   1033\u001b[0m     config\u001b[38;5;241m=\u001b[39mconfig,\n\u001b[0;32m   1034\u001b[0m     gradient_kwargs\u001b[38;5;241m=\u001b[39m\u001b[38;5;28mself\u001b[39m\u001b[38;5;241m.\u001b[39mgradient_kwargs,\n\u001b[0;32m   1035\u001b[0m     override_shots\u001b[38;5;241m=\u001b[39moverride_shots,\n\u001b[0;32m   1036\u001b[0m     \u001b[38;5;241m*\u001b[39m\u001b[38;5;241m*\u001b[39m\u001b[38;5;28mself\u001b[39m\u001b[38;5;241m.\u001b[39mexecute_kwargs,\n\u001b[0;32m   1037\u001b[0m )\n\u001b[0;32m   1039\u001b[0m res \u001b[38;5;241m=\u001b[39m res[\u001b[38;5;241m0\u001b[39m]\n\u001b[0;32m   1041\u001b[0m \u001b[38;5;66;03m# convert result to the interface in case the qfunc has no parameters\u001b[39;00m\n",
      "File \u001b[1;32mc:\\Users\\chopi\\anaconda3\\lib\\site-packages\\pennylane\\interfaces\\execution.py:736\u001b[0m, in \u001b[0;36mexecute\u001b[1;34m(tapes, device, gradient_fn, interface, transform_program, config, grad_on_execution, gradient_kwargs, cache, cachesize, max_diff, override_shots, expand_fn, max_expansion, device_batch_transform)\u001b[0m\n\u001b[0;32m    733\u001b[0m     \u001b[38;5;28;01mraise\u001b[39;00m \u001b[38;5;167;01mValueError\u001b[39;00m(\u001b[38;5;124m\"\u001b[39m\u001b[38;5;124mGradient transforms cannot be used with grad_on_execution=True\u001b[39m\u001b[38;5;124m\"\u001b[39m)\n\u001b[0;32m    735\u001b[0m ml_boundary_execute \u001b[38;5;241m=\u001b[39m _get_ml_boundary_execute(interface, _grad_on_execution)\n\u001b[1;32m--> 736\u001b[0m results \u001b[38;5;241m=\u001b[39m \u001b[43mml_boundary_execute\u001b[49m\u001b[43m(\u001b[49m\n\u001b[0;32m    737\u001b[0m \u001b[43m    \u001b[49m\u001b[43mtapes\u001b[49m\u001b[43m,\u001b[49m\u001b[43m \u001b[49m\u001b[43mdevice\u001b[49m\u001b[43m,\u001b[49m\u001b[43m \u001b[49m\u001b[43mexecute_fn\u001b[49m\u001b[43m,\u001b[49m\u001b[43m \u001b[49m\u001b[43mgradient_fn\u001b[49m\u001b[43m,\u001b[49m\u001b[43m \u001b[49m\u001b[43mgradient_kwargs\u001b[49m\u001b[43m,\u001b[49m\u001b[43m \u001b[49m\u001b[43m_n\u001b[49m\u001b[38;5;241;43m=\u001b[39;49m\u001b[38;5;241;43m1\u001b[39;49m\u001b[43m,\u001b[49m\u001b[43m \u001b[49m\u001b[43mmax_diff\u001b[49m\u001b[38;5;241;43m=\u001b[39;49m\u001b[43mmax_diff\u001b[49m\n\u001b[0;32m    738\u001b[0m \u001b[43m\u001b[49m\u001b[43m)\u001b[49m\n\u001b[0;32m    740\u001b[0m \u001b[38;5;28;01mreturn\u001b[39;00m post_processing(results)\n",
      "File \u001b[1;32mc:\\Users\\chopi\\anaconda3\\lib\\site-packages\\pennylane\\interfaces\\jax_jit.py:278\u001b[0m, in \u001b[0;36mexecute\u001b[1;34m(tapes, device, execute_fn, gradient_fn, gradient_kwargs, _n, max_diff)\u001b[0m\n\u001b[0;32m    268\u001b[0m \u001b[38;5;28;01mif\u001b[39;00m gradient_fn \u001b[38;5;129;01mis\u001b[39;00m \u001b[38;5;28;01mNone\u001b[39;00m:\n\u001b[0;32m    269\u001b[0m     \u001b[38;5;28;01mreturn\u001b[39;00m _execute_fwd(\n\u001b[0;32m    270\u001b[0m         parameters,\n\u001b[0;32m    271\u001b[0m         tapes\u001b[38;5;241m=\u001b[39mtapes,\n\u001b[1;32m   (...)\u001b[0m\n\u001b[0;32m    275\u001b[0m         _n\u001b[38;5;241m=\u001b[39m_n,\n\u001b[0;32m    276\u001b[0m     )\n\u001b[1;32m--> 278\u001b[0m \u001b[38;5;28;01mreturn\u001b[39;00m \u001b[43m_execute_bwd\u001b[49m\u001b[43m(\u001b[49m\n\u001b[0;32m    279\u001b[0m \u001b[43m    \u001b[49m\u001b[43mparameters\u001b[49m\u001b[43m,\u001b[49m\n\u001b[0;32m    280\u001b[0m \u001b[43m    \u001b[49m\u001b[43mtapes\u001b[49m\u001b[38;5;241;43m=\u001b[39;49m\u001b[43mtapes\u001b[49m\u001b[43m,\u001b[49m\n\u001b[0;32m    281\u001b[0m \u001b[43m    \u001b[49m\u001b[43mdevice\u001b[49m\u001b[38;5;241;43m=\u001b[39;49m\u001b[43mdevice\u001b[49m\u001b[43m,\u001b[49m\n\u001b[0;32m    282\u001b[0m \u001b[43m    \u001b[49m\u001b[43mexecute_fn\u001b[49m\u001b[38;5;241;43m=\u001b[39;49m\u001b[43mexecute_fn\u001b[49m\u001b[43m,\u001b[49m\n\u001b[0;32m    283\u001b[0m \u001b[43m    \u001b[49m\u001b[43mgradient_fn\u001b[49m\u001b[38;5;241;43m=\u001b[39;49m\u001b[43mgradient_fn\u001b[49m\u001b[43m,\u001b[49m\n\u001b[0;32m    284\u001b[0m \u001b[43m    \u001b[49m\u001b[43mgradient_kwargs\u001b[49m\u001b[38;5;241;43m=\u001b[39;49m\u001b[43mgradient_kwargs\u001b[49m\u001b[43m,\u001b[49m\n\u001b[0;32m    285\u001b[0m \u001b[43m    \u001b[49m\u001b[43m_n\u001b[49m\u001b[38;5;241;43m=\u001b[39;49m\u001b[43m_n\u001b[49m\u001b[43m,\u001b[49m\n\u001b[0;32m    286\u001b[0m \u001b[43m    \u001b[49m\u001b[43mmax_diff\u001b[49m\u001b[38;5;241;43m=\u001b[39;49m\u001b[43mmax_diff\u001b[49m\u001b[43m,\u001b[49m\n\u001b[0;32m    287\u001b[0m \u001b[43m\u001b[49m\u001b[43m)\u001b[49m\n",
      "File \u001b[1;32mc:\\Users\\chopi\\anaconda3\\lib\\site-packages\\pennylane\\interfaces\\jax_jit.py:363\u001b[0m, in \u001b[0;36m_execute_bwd\u001b[1;34m(params, tapes, device, execute_fn, gradient_fn, gradient_kwargs, _n, max_diff)\u001b[0m\n\u001b[0;32m    360\u001b[0m     results \u001b[38;5;241m=\u001b[39m execute_wrapper(params)\n\u001b[0;32m    361\u001b[0m     \u001b[38;5;28;01mreturn\u001b[39;00m results, jvps\n\u001b[1;32m--> 363\u001b[0m \u001b[38;5;28;01mreturn\u001b[39;00m \u001b[43mexecute_wrapper\u001b[49m\u001b[43m(\u001b[49m\u001b[43mparams\u001b[49m\u001b[43m)\u001b[49m\n",
      "    \u001b[1;31m[... skipping hidden 5 frame]\u001b[0m\n",
      "File \u001b[1;32mc:\\Users\\chopi\\anaconda3\\lib\\site-packages\\jax\\_src\\custom_derivatives.py:340\u001b[0m, in \u001b[0;36m_flatten_jvp\u001b[1;34m(primal_name, jvp_name, in_tree, maybe_out_type, *args)\u001b[0m\n\u001b[0;32m    337\u001b[0m   (av1,), (av2,) \u001b[38;5;241m=\u001b[39m primal_avals_out, tangent_avals_out\n\u001b[0;32m    338\u001b[0m   msg \u001b[38;5;241m=\u001b[39m (\u001b[38;5;124m\"\u001b[39m\u001b[38;5;124mCustom JVP rule must produce primal and tangent outputs with \u001b[39m\u001b[38;5;124m\"\u001b[39m\n\u001b[0;32m    339\u001b[0m          \u001b[38;5;124m\"\u001b[39m\u001b[38;5;124mequal shapes and dtypes, but got \u001b[39m\u001b[38;5;132;01m{}\u001b[39;00m\u001b[38;5;124m and \u001b[39m\u001b[38;5;132;01m{}\u001b[39;00m\u001b[38;5;124m respectively.\u001b[39m\u001b[38;5;124m\"\u001b[39m)\n\u001b[1;32m--> 340\u001b[0m   \u001b[38;5;28;01mraise\u001b[39;00m \u001b[38;5;167;01mTypeError\u001b[39;00m(msg\u001b[38;5;241m.\u001b[39mformat(av1\u001b[38;5;241m.\u001b[39mstr_short(), av2\u001b[38;5;241m.\u001b[39mstr_short()))\n\u001b[0;32m    341\u001b[0m \u001b[38;5;28;01melse\u001b[39;00m:\n\u001b[0;32m    342\u001b[0m   msg \u001b[38;5;241m=\u001b[39m (\u001b[38;5;124m\"\u001b[39m\u001b[38;5;124mCustom JVP rule must produce primal and tangent outputs with \u001b[39m\u001b[38;5;124m\"\u001b[39m\n\u001b[0;32m    343\u001b[0m          \u001b[38;5;124m\"\u001b[39m\u001b[38;5;124mequal shapes and dtypes, but got:\u001b[39m\u001b[38;5;130;01m\\n\u001b[39;00m\u001b[38;5;132;01m{}\u001b[39;00m\u001b[38;5;124m\"\u001b[39m)\n",
      "\u001b[1;31mTypeError\u001b[0m: Custom JVP rule must produce primal and tangent outputs with equal shapes and dtypes, but got float64[] and float32[] respectively."
     ]
    }
   ],
   "source": [
    "# initialise the optimizer\n",
    "opt = jaxopt.GradientDescent(cost, stepsize=0.4, acceleration = False)\n",
    "\n",
    "# set the number of steps\n",
    "steps = 100\n",
    "# set the initial parameter values\n",
    "params = init_params\n",
    "\n",
    "opt_state = opt.init_state(params)\n",
    "\n",
    "for i in range(steps):\n",
    "    # update the circuit parameters\n",
    "    params, opt_state = opt.update(params, opt_state)\n",
    "\n",
    "    if (i + 1) % 5 == 0:\n",
    "        print(\"Cost after step {:5d}: {: .7f}\".format(i + 1, cost(params)))\n",
    "\n",
    "print(\"Optimized rotation angles: {}\".format(params))"
   ]
  },
  {
   "cell_type": "code",
   "execution_count": null,
   "metadata": {},
   "outputs": [],
   "source": []
  }
 ],
 "metadata": {
  "kernelspec": {
   "display_name": "base",
   "language": "python",
   "name": "python3"
  },
  "language_info": {
   "codemirror_mode": {
    "name": "ipython",
    "version": 3
   },
   "file_extension": ".py",
   "mimetype": "text/x-python",
   "name": "python",
   "nbconvert_exporter": "python",
   "pygments_lexer": "ipython3",
   "version": "3.10.9"
  }
 },
 "nbformat": 4,
 "nbformat_minor": 2
}
